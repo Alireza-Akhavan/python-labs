{
 "cells": [
  {
   "cell_type": "markdown",
   "metadata": {
    "colab_type": "text",
    "id": "view-in-github"
   },
   "source": [
    "<a href=\"https://colab.research.google.com/github/python-labs/blob/master/7-Pandas_Intro.ipynb\" target=\"_parent\"><img src=\"https://colab.research.google.com/assets/colab-badge.svg\" alt=\"Open In Colab\"/></a>"
   ]
  },
  {
   "cell_type": "markdown",
   "metadata": {
    "colab_type": "text",
    "id": "8GLCM_xrxJdc"
   },
   "source": [
    "Let's start by importing Pandas. Click on a cell to activate it. Press Shift + Enter to execute. Cells should be executed in order."
   ]
  },
  {
   "cell_type": "code",
   "execution_count": 0,
   "metadata": {
    "colab": {},
    "colab_type": "code",
    "id": "U_5zMEGZL96I"
   },
   "outputs": [],
   "source": [
    "import pandas as pd"
   ]
  },
  {
   "cell_type": "markdown",
   "metadata": {
    "colab_type": "text",
    "id": "7qQ1n2fkx234"
   },
   "source": [
    "## Load / Create Data Frame\n",
    "We can read CSV or excel files to import data. We can also create dataframes programatically like this:"
   ]
  },
  {
   "cell_type": "code",
   "execution_count": 0,
   "metadata": {
    "colab": {},
    "colab_type": "code",
    "id": "yyFj31jcMmH6"
   },
   "outputs": [],
   "source": [
    "df = pd.DataFrame({'Artist':['Billie Holiday','Jimi Hendrix', 'Miles Davis', 'SIA'],\n",
    "              'Genre': ['Jazz', 'Rock', 'Jazz', 'Pop'],\n",
    "              'Listeners': [1300000, 2700000, 1500000, 2000000],\n",
    "              'Plays': [27000000, 70000000, 48000000, 74000000]})"
   ]
  },
  {
   "cell_type": "markdown",
   "metadata": {
    "colab_type": "text",
    "id": "wXj4OuOrxwJm"
   },
   "source": [
    " The variable `df` now contains a dataframe. Executing this cell shows the contents of the dataframe"
   ]
  },
  {
   "cell_type": "code",
   "execution_count": 0,
   "metadata": {
    "colab": {},
    "colab_type": "code",
    "id": "WF4_LVYOO__m"
   },
   "outputs": [],
   "source": [
    "df"
   ]
  },
  {
   "cell_type": "markdown",
   "metadata": {
    "colab_type": "text",
    "id": "6LUcXFMKyF6z"
   },
   "source": [
    "## Selection\n",
    "We can select any column using its label:"
   ]
  },
  {
   "cell_type": "code",
   "execution_count": 0,
   "metadata": {
    "colab": {},
    "colab_type": "code",
    "id": "sTNHtQz3Mu_K"
   },
   "outputs": [],
   "source": [
    "df['Artist']"
   ]
  },
  {
   "cell_type": "markdown",
   "metadata": {
    "colab_type": "text",
    "id": "UeH1ClC3yOJy"
   },
   "source": [
    "We can select one or multiple rows using their numbers (inclusive of both bounding row numbers):"
   ]
  },
  {
   "cell_type": "code",
   "execution_count": 0,
   "metadata": {
    "colab": {},
    "colab_type": "code",
    "id": "41MpPCPwM0AR"
   },
   "outputs": [],
   "source": [
    "df.loc[1:3]"
   ]
  },
  {
   "cell_type": "code",
   "execution_count": 0,
   "metadata": {
    "colab": {},
    "colab_type": "code",
    "id": "fhOMUtTNPnc0"
   },
   "outputs": [],
   "source": [
    "# Exercise: Select only row #0\n",
    "\n"
   ]
  },
  {
   "cell_type": "markdown",
   "metadata": {
    "colab_type": "text",
    "id": "7eeFjuAUyTDj"
   },
   "source": [
    "We can select any slice of the table using a both column label and row numbers using loc:"
   ]
  },
  {
   "cell_type": "code",
   "execution_count": 0,
   "metadata": {
    "colab": {},
    "colab_type": "code",
    "id": "p7EPN96RPHQt"
   },
   "outputs": [],
   "source": [
    "df.loc[1:3,['Artist']]"
   ]
  },
  {
   "cell_type": "code",
   "execution_count": 0,
   "metadata": {
    "colab": {},
    "colab_type": "code",
    "id": "ov_6TtCvPubJ"
   },
   "outputs": [],
   "source": [
    "# Exercise: Select 'Artist' and 'Plays' for rows #1 and #2\n"
   ]
  },
  {
   "cell_type": "markdown",
   "metadata": {
    "colab_type": "text",
    "id": "GeuS62DoyXlJ"
   },
   "source": [
    "## Filtering\n",
    "Now it gets more interesting. We can easily filter rows using the values of a specific row. For example, here are our jazz musicians:"
   ]
  },
  {
   "cell_type": "code",
   "execution_count": 0,
   "metadata": {
    "colab": {},
    "colab_type": "code",
    "id": "ax8qDMHfPQmP"
   },
   "outputs": [],
   "source": [
    "df[df['Genre'] == \"Jazz\" ]"
   ]
  },
  {
   "cell_type": "code",
   "execution_count": 0,
   "metadata": {
    "colab": {},
    "colab_type": "code",
    "id": "Surgh6XVRmlT"
   },
   "outputs": [],
   "source": [
    "# Exercise: Select the row where the Genre is 'Rock'\n",
    "\n"
   ]
  },
  {
   "cell_type": "markdown",
   "metadata": {
    "colab_type": "text",
    "id": "a33J488lyeFj"
   },
   "source": [
    "Here are the artists who have more than 1,800,000 listeners:"
   ]
  },
  {
   "cell_type": "code",
   "execution_count": 0,
   "metadata": {
    "colab": {},
    "colab_type": "code",
    "id": "H1Ld-RXQPTLL"
   },
   "outputs": [],
   "source": [
    "df[df['Listeners'] > 1800000 ]"
   ]
  },
  {
   "cell_type": "code",
   "execution_count": 0,
   "metadata": {
    "colab": {},
    "colab_type": "code",
    "id": "8XLaLBKORva4"
   },
   "outputs": [],
   "source": [
    "# Exercise: Select the rows where 'Plays' is less than 50,000,000\n",
    "\n"
   ]
  },
  {
   "cell_type": "markdown",
   "metadata": {
    "colab_type": "text",
    "id": "MPeYsXStyuwA"
   },
   "source": [
    "## Grouping"
   ]
  },
  {
   "cell_type": "code",
   "execution_count": 0,
   "metadata": {
    "colab": {},
    "colab_type": "code",
    "id": "qPG_jFSdPMF5"
   },
   "outputs": [],
   "source": [
    "df.groupby('Genre').sum()"
   ]
  },
  {
   "cell_type": "code",
   "execution_count": 0,
   "metadata": {
    "colab": {},
    "colab_type": "code",
    "id": "kb5smli-PVE3"
   },
   "outputs": [],
   "source": [
    "# Exercise: Group by Genre, use mean() as the aggregation function \n"
   ]
  },
  {
   "cell_type": "code",
   "execution_count": 0,
   "metadata": {
    "colab": {},
    "colab_type": "code",
    "id": "g2IFgCF4Rg48"
   },
   "outputs": [],
   "source": [
    "# Exercise: Group by Genre, use max() as the aggregation function \n"
   ]
  },
  {
   "cell_type": "markdown",
   "metadata": {},
   "source": [
    "source:\n",
    "    https://github.com/jalammar/pandas-intro/blob/master/Pandas_Intro.ipynb"
   ]
  }
 ],
 "metadata": {
  "colab": {
   "collapsed_sections": [],
   "include_colab_link": true,
   "name": "Pandas Intro.ipynb",
   "provenance": [],
   "version": "0.3.2"
  },
  "kernelspec": {
   "display_name": "Python 3",
   "language": "python",
   "name": "python3"
  },
  "language_info": {
   "codemirror_mode": {
    "name": "ipython",
    "version": 3
   },
   "file_extension": ".py",
   "mimetype": "text/x-python",
   "name": "python",
   "nbconvert_exporter": "python",
   "pygments_lexer": "ipython3",
   "version": "3.8.5"
  }
 },
 "nbformat": 4,
 "nbformat_minor": 1
}
